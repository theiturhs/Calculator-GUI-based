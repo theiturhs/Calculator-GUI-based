{
 "cells": [
  {
   "cell_type": "markdown",
   "id": "10a27ac7",
   "metadata": {},
   "source": [
    "# Importing necessary library"
   ]
  },
  {
   "cell_type": "code",
   "execution_count": 1,
   "id": "cab38130",
   "metadata": {},
   "outputs": [],
   "source": [
    "from tkinter import *"
   ]
  },
  {
   "cell_type": "markdown",
   "id": "01c296ba",
   "metadata": {},
   "source": [
    "# Defining precedence of operators inside and outside stack"
   ]
  },
  {
   "cell_type": "code",
   "execution_count": 2,
   "id": "474b113b",
   "metadata": {},
   "outputs": [],
   "source": [
    "precedence = {\"+\": 1, \"-\": 1, \"*\": 2, \"/\": 2, \"%\": 2, \"^\": 3, \"(\": 4}\n",
    "after_in_stack = {\"+\": 1, \"-\": 1, \"*\": 2, \"/\": 2, \"%\": 2, \"^\": 3, \"(\": 0}"
   ]
  },
  {
   "cell_type": "markdown",
   "id": "a52db51b",
   "metadata": {},
   "source": [
    "# To check whether the input string represents float or not"
   ]
  },
  {
   "cell_type": "code",
   "execution_count": null,
   "id": "86379982",
   "metadata": {},
   "outputs": [],
   "source": [
    "def is_float(s):\n",
    "    try:\n",
    "        float(s)\n",
    "        return True\n",
    "    except ValueError:\n",
    "        return False"
   ]
  },
  {
   "cell_type": "markdown",
   "id": "67a8034a",
   "metadata": {},
   "source": [
    "# Converting the string input into float numbers and operators in list format"
   ]
  },
  {
   "cell_type": "code",
   "execution_count": 4,
   "id": "c70bae23",
   "metadata": {},
   "outputs": [],
   "source": [
    "def expression_to_list(expression):\n",
    "    elements = []\n",
    "    current = ''\n",
    "    for i, c in enumerate(expression):\n",
    "        if c.isdigit() or c == '.':\n",
    "            current += c\n",
    "        elif c == '-' and (i == 0 or expression[i - 1] in '+-*/%^('):\n",
    "            current = '-'\n",
    "        elif c in '()+-x/%^':\n",
    "            if c == \"x\":\n",
    "                c = '*'\n",
    "            if current:\n",
    "                elements.append(current)\n",
    "                current = ''\n",
    "            elements.append(c)\n",
    "        elif c.isspace():\n",
    "            pass\n",
    "        else:\n",
    "            return \"Syntax Error\"\n",
    "    if current:\n",
    "        elements.append(current)\n",
    "    return elements"
   ]
  },
  {
   "cell_type": "markdown",
   "id": "9ad1073e",
   "metadata": {},
   "source": [
    "# Infix to Postfix expression"
   ]
  },
  {
   "cell_type": "code",
   "execution_count": 5,
   "id": "db6d02e4",
   "metadata": {},
   "outputs": [],
   "source": [
    "def infix_to_postfix(expression_stack):\n",
    "    intermediate_stack = []\n",
    "    final_stack = []\n",
    "    for x in expression_stack:\n",
    "        if is_float(x):\n",
    "            final_stack.append(float(x))\n",
    "\n",
    "        elif x in \"(*+-/%^\":\n",
    "            if intermediate_stack == [] or after_in_stack[intermediate_stack[-1]]<precedence[x] or (x == \"^\" and intermediate_stack[-1] == \"^\"):\n",
    "                intermediate_stack.append(x)\n",
    "            elif after_in_stack[intermediate_stack[-1]]>=precedence[x]:\n",
    "                while intermediate_stack and after_in_stack[intermediate_stack[-1]]>=precedence[x]:\n",
    "                    final_stack.append(intermediate_stack.pop())\n",
    "                intermediate_stack.append(x)\n",
    "\n",
    "        elif x == \")\":\n",
    "            while intermediate_stack and intermediate_stack[-1]!=\"(\":\n",
    "                final_stack.append(intermediate_stack.pop())\n",
    "            if intermediate_stack and intermediate_stack[-1] == \"(\":\n",
    "                intermediate_stack.pop()\n",
    "    while intermediate_stack:\n",
    "        final_stack.append(intermediate_stack.pop())\n",
    "    return final_stack"
   ]
  },
  {
   "cell_type": "markdown",
   "id": "aa28eaa3",
   "metadata": {},
   "source": [
    "# Calculating result from postfix expression"
   ]
  },
  {
   "cell_type": "code",
   "execution_count": 6,
   "id": "030b872e",
   "metadata": {},
   "outputs": [],
   "source": [
    "def calculate(expression_stack):\n",
    "    try:\n",
    "        stack = []\n",
    "        for x in expression_stack:\n",
    "            if type(x) == float:\n",
    "                stack.append(x)\n",
    "            else:\n",
    "                num2 = stack.pop()\n",
    "                num1 = stack.pop()\n",
    "                if x == \"x\" or x == \"X\":\n",
    "                    x = \"*\"\n",
    "                if x == \"^\":\n",
    "                    x = \"**\"\n",
    "                stack.append(eval(str(str(num1) + x + str(num2))))\n",
    "        return stack[0]\n",
    "    except:\n",
    "        return \"Syntax Error\""
   ]
  },
  {
   "cell_type": "markdown",
   "id": "e314c7bf",
   "metadata": {},
   "source": [
    "# Defining and configuring Tkinter window"
   ]
  },
  {
   "cell_type": "code",
   "execution_count": 7,
   "id": "240f0cf0",
   "metadata": {},
   "outputs": [
    {
     "data": {
      "text/plain": [
       "''"
      ]
     },
     "execution_count": 7,
     "metadata": {},
     "output_type": "execute_result"
    }
   ],
   "source": [
    "window = Tk()\n",
    "\n",
    "window.geometry('381x520')\n",
    "window.title(\"Calculator\")\n",
    "window.config(background='#202020')\n",
    "window.resizable(False,False)"
   ]
  },
  {
   "cell_type": "markdown",
   "id": "72d163a0",
   "metadata": {},
   "source": [
    "# Defining variable to store user input"
   ]
  },
  {
   "cell_type": "code",
   "execution_count": 8,
   "id": "55fc22e8",
   "metadata": {},
   "outputs": [],
   "source": [
    "var = StringVar()"
   ]
  },
  {
   "cell_type": "markdown",
   "id": "2aba866d",
   "metadata": {},
   "source": [
    "# Functions required while numbers or operators are clicked"
   ]
  },
  {
   "cell_type": "code",
   "execution_count": 9,
   "id": "b545d4b6",
   "metadata": {},
   "outputs": [],
   "source": [
    "def remove_placeholder(event):\n",
    "   expression_window.delete(0, \"end\")\n",
    "def clear():\n",
    "    var.set(\"\")\n",
    "def insert_var0():\n",
    "    var.set(var.get()+'0')\n",
    "def insert_var00():\n",
    "    var.set(var.get() + '00')\n",
    "def insert_var1():\n",
    "    var.set(var.get() + '1')\n",
    "def insert_var2():\n",
    "    var.set(var.get() + '2')\n",
    "def insert_var3():\n",
    "    var.set(var.get() + '3')\n",
    "def insert_var4():\n",
    "    var.set(var.get() + '4')\n",
    "def insert_var5():\n",
    "    var.set(var.get() + '5')\n",
    "def insert_var6():\n",
    "    var.set(var.get() + '6')\n",
    "def insert_var7():\n",
    "    var.set(var.get() + '7')\n",
    "def insert_var8():\n",
    "    var.set(var.get() + '8')\n",
    "def insert_var9():\n",
    "    var.set(var.get() + '9')\n",
    "def insert_var10():\n",
    "    var.set(var.get() + '+')\n",
    "def insert_var11():\n",
    "    var.set(var.get() + '-')\n",
    "def insert_var12():\n",
    "    var.set(var.get() + 'x')\n",
    "def insert_var13():\n",
    "    var.set(var.get() + '/')\n",
    "def insert_var14():\n",
    "    var.set(var.get() + '%')\n",
    "def insert_var15():\n",
    "    var.set(var.get() + '^')\n",
    "def insert_var16():\n",
    "    var.set(var.get() + '.')\n",
    "def insert_varb1():\n",
    "    var.set(var.get() + '(')\n",
    "def insert_varb2():\n",
    "    var.set(var.get() + ')')\n",
    "def delete_var():\n",
    "    var.set(var.get()[:-1])\n",
    "\n",
    "def find():\n",
    "    lst = expression_to_list(var.get())\n",
    "    if lst == \"Syntax Error\":\n",
    "        var.set(\"Syntax Error\")\n",
    "        return\n",
    "    lst = infix_to_postfix(lst)\n",
    "    answer = calculate(lst)\n",
    "    var.set(answer)\n",
    "    return"
   ]
  },
  {
   "cell_type": "markdown",
   "id": "4a08d3c7",
   "metadata": {},
   "source": [
    "# Placing the buttons and configuring the window"
   ]
  },
  {
   "cell_type": "code",
   "execution_count": 10,
   "id": "b2446b55",
   "metadata": {},
   "outputs": [],
   "source": [
    "calculator = Label(window, text = \"Calculator\", bd=0, background=\"#202020\", fg='white', font=(\"Times New Roman\", 16, \"bold\")).place(x=20,y=10)\n",
    "\n",
    "expression_window = Entry(window, textvariable=var, width=\"19\", bd=0, background=\"#202020\", fg='#fff', font=(\"Times New Roman\", 26), justify=\"right\")\n",
    "expression_window.insert(0, \"0\")\n",
    "expression_window.place(x=3, y=80)\n",
    "expression_window.bind(\"<FocusIn>\", remove_placeholder)\n",
    "\n",
    "verify_expression_window = Label(window, textvariable=var, width=\"29\", bd=0, background=\"#202020\", fg='#808080', font=(\"Times New Roman\", 16), anchor='e', justify=RIGHT)\n",
    "verify_expression_window.place(x=1,y=50)\n",
    "\n",
    "\n",
    "b1 = Button(window, text=\"(\",background=\"#666666\", fg='white', font=(\"Times New Roman\", 17), width=6, cursor=\"hand2\", relief=FLAT, command=insert_varb1).place(x=100,y=150)\n",
    "b2 = Button(window, text=\")\",background=\"#666666\", fg='white', font=(\"Times New Roman\", 17), width=6, cursor=\"hand2\", relief=FLAT, command=insert_varb2).place(x=195,y=150)\n",
    "c = Button(window, text=\"C\",background=\"#666666\", fg='white', font=(\"Times New Roman\", 17), width=6, height=1, cursor=\"hand2\", relief=FLAT, command=clear).place(x=290,y=150)\n",
    "\n",
    "add = Button(window, text=\"+\",background=\"#666666\", fg='white', font=(\"Times New Roman\", 17), width=6, cursor=\"hand2\", relief=FLAT, command=insert_var10).place(x=5,y=210)\n",
    "sub = Button(window, text=\"-\",background=\"#666666\", fg='white', font=(\"Times New Roman\", 17), width=6, cursor=\"hand2\", relief=FLAT, command=insert_var11).place(x=100,y=210)\n",
    "mul = Button(window, text=\"X\",background=\"#666666\", fg='white', font=(\"Times New Roman\", 17), width=6, cursor=\"hand2\", relief=FLAT, command=insert_var12).place(x=195,y=210)\n",
    "div = Button(window, text=\"/\",background=\"#666666\", fg='white', font=(\"Times New Roman\", 17), width=6, cursor=\"hand2\", relief=FLAT, command=insert_var13).place(x=290,y=210)\n",
    "\n",
    "seven = Button(window, text=\"7\",background=\"#323232\", fg='white', font=(\"Times New Roman\", 17), width=6, cursor=\"hand2\", relief=FLAT, command=insert_var7).place(x=5,y=270)\n",
    "eight = Button(window, text=\"8\",background=\"#323232\", fg='white', font=(\"Times New Roman\", 17), width=6, cursor=\"hand2\", relief=FLAT, command=insert_var8).place(x=100,y=270)\n",
    "nine = Button(window, text=\"9\",background=\"#323232\", fg='white', font=(\"Times New Roman\", 17), width=6, cursor=\"hand2\", relief=FLAT, command=insert_var9).place(x=195,y=270)\n",
    "mod = Button(window, text=\"%\",background=\"#666666\", fg='white', font=(\"Times New Roman\", 17), width=6, cursor=\"hand2\", relief=FLAT, command=insert_var14).place(x=290,y=270)\n",
    "\n",
    "four = Button(window, text=\"4\",background=\"#323232\", fg='white', font=(\"Times New Roman\", 17), width=6, cursor=\"hand2\", relief=FLAT, command=insert_var4).place(x=5,y=330)\n",
    "five = Button(window, text=\"5\",background=\"#323232\", fg='white', font=(\"Times New Roman\", 17), width=6, cursor=\"hand2\", relief=FLAT, command=insert_var5).place(x=100,y=330)\n",
    "six = Button(window, text=\"6\",background=\"#323232\", fg='white', font=(\"Times New Roman\", 17), width=6, cursor=\"hand2\", relief=FLAT, command=insert_var6).place(x=195,y=330)\n",
    "power = Button(window, text=\"^\",background=\"#666666\", fg='white', font=(\"Times New Roman\", 17), width=6, cursor=\"hand2\", relief=FLAT, command=insert_var15).place(x=290,y=330)\n",
    "\n",
    "one = Button(window, text=\"1\",background=\"#323232\", fg='white', font=(\"Times New Roman\", 17), width=6, cursor=\"hand2\", relief=FLAT, command=insert_var1).place(x=5,y=390)\n",
    "two = Button(window, text=\"2\",background=\"#323232\", fg='white', font=(\"Times New Roman\", 17), width=6, cursor=\"hand2\", relief=FLAT, command=insert_var2).place(x=100,y=390)\n",
    "three = Button(window, text=\"3\",background=\"#323232\", fg='white', font=(\"Times New Roman\", 17), width=6, cursor=\"hand2\", relief=FLAT, command=insert_var3).place(x=195,y=390)\n",
    "delete = Button(window, text=\"DEL\",background=\"#666666\", fg='white', font=(\"Times New Roman\", 17), width=6, cursor=\"hand2\", relief=FLAT, command=delete_var).place(x=290,y=390)\n",
    "\n",
    "decimal = Button(window,text=\".\",background=\"#323232\", fg='white', font=(\"Times New Roman\", 17), width=6, cursor=\"hand2\", relief=FLAT, command=insert_var16).place(x=5,y=450)\n",
    "zero = Button(window, text=\"0\",background=\"#323232\", fg='white', font=(\"Times New Roman\", 17), width=6, cursor=\"hand2\", relief=FLAT, command=insert_var0).place(x=100,y=450)\n",
    "double_zero = Button(window, text=\"00\",background=\"#323232\", fg='white', font=(\"Times New Roman\", 17), width=6, cursor=\"hand2\", relief=FLAT, command=insert_var00).place(x=195,y=450)\n",
    "equal = Button(window, text=\"=\",background=\"red\", fg='white', font=(\"Times New Roman\", 17), width=6, cursor=\"hand2\", relief=FLAT, command=find).place(x=290,y=450)"
   ]
  },
  {
   "cell_type": "code",
   "execution_count": null,
   "id": "69ddb311",
   "metadata": {},
   "outputs": [],
   "source": [
    "window.mainloop()"
   ]
  }
 ],
 "metadata": {
  "kernelspec": {
   "display_name": "Python 3",
   "language": "python",
   "name": "python3"
  },
  "language_info": {
   "codemirror_mode": {
    "name": "ipython",
    "version": 3
   },
   "file_extension": ".py",
   "mimetype": "text/x-python",
   "name": "python",
   "nbconvert_exporter": "python",
   "pygments_lexer": "ipython3",
   "version": "3.9.13"
  }
 },
 "nbformat": 4,
 "nbformat_minor": 5
}
